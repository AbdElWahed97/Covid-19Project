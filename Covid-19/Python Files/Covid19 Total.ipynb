{
 "cells": [
  {
   "cell_type": "code",
   "execution_count": 1,
   "id": "d3fc9b75",
   "metadata": {},
   "outputs": [],
   "source": [
    "import pandas as pd\n",
    "import numpy as np\n",
    "\n",
    "data1 = pd.read_csv(\"Downloads/time_series_covid19_confirmed_global.csv\")\n",
    "data2 = pd.read_csv(\"Downloads/time_series_covid19_deaths_global.csv\")\n",
    "data3 = pd.read_csv(\"Downloads/time_series_covid19_recovered_global.csv\")"
   ]
  },
  {
   "cell_type": "code",
   "execution_count": 6,
   "id": "63a9b861",
   "metadata": {},
   "outputs": [
    {
     "data": {
      "text/plain": [
       "(280, 704)"
      ]
     },
     "execution_count": 6,
     "metadata": {},
     "output_type": "execute_result"
    }
   ],
   "source": [
    "del data1['Lat']\n",
    "del data1['Long']\n",
    "\n",
    "del data2['Lat']\n",
    "del data2['Long']\n",
    "\n",
    "\n",
    "del data3['Lat']\n",
    "del data3['Long']\n"
   ]
  },
  {
   "cell_type": "code",
   "execution_count": 27,
   "id": "f9405caf",
   "metadata": {},
   "outputs": [],
   "source": [
    "for i in range(data1.shape[0]):\n",
    "    for j in range(3,data1.shape[1]):\n",
    "        if data1.iloc[i,j] < data1.iloc[i,j-1]:\n",
    "            data1.iloc[i,j] = data1.iloc[i,j-1]\n",
    "        else:\n",
    "            data1.iloc[i,j] = data1.iloc[i,j]"
   ]
  },
  {
   "cell_type": "code",
   "execution_count": 38,
   "id": "b460c9d2",
   "metadata": {},
   "outputs": [],
   "source": [
    "for i in range(data2.shape[0]):\n",
    "    for j in range(3,data2.shape[1]):\n",
    "        if data2.iloc[i,j] < data2.iloc[i,j-1]:\n",
    "            data2.iloc[i,j] = data2.iloc[i,j-1]\n",
    "        else:\n",
    "            data2.iloc[i,j] = data2.iloc[i,j]"
   ]
  },
  {
   "cell_type": "code",
   "execution_count": 39,
   "id": "bfd3920f",
   "metadata": {},
   "outputs": [],
   "source": [
    "for i in range(data3.shape[0]):\n",
    "    for j in range(3,data3.shape[1]):\n",
    "        if data3.iloc[i,j] < data3.iloc[i,j-1]:\n",
    "            data3.iloc[i,j] = data3.iloc[i,j-1]\n",
    "        else:\n",
    "            data3.iloc[i,j] = data3.iloc[i,j]"
   ]
  },
  {
   "cell_type": "code",
   "execution_count": 7,
   "id": "468882b2",
   "metadata": {},
   "outputs": [],
   "source": [
    "data_11 = data1.set_index(['Province/State','Country/Region']).stack().reset_index(name = 'Confirmed Cases till Date').rename(columns = {'level_2' : 'Date'})\n",
    "data_21 = data2.set_index(['Province/State','Country/Region']).stack().reset_index(name = 'Deaths till Date').rename(columns = {'level_2' : 'Date'})\n",
    "data_31 = data3.set_index(['Province/State','Country/Region']).stack().reset_index(name = 'Recovered Cases till Date').rename(columns = {'level_2' : 'Date'})"
   ]
  },
  {
   "cell_type": "code",
   "execution_count": 41,
   "id": "d8efd113",
   "metadata": {},
   "outputs": [],
   "source": [
    "merged = pd.merge(data_11 , data_21)"
   ]
  },
  {
   "cell_type": "code",
   "execution_count": 42,
   "id": "46ad8777",
   "metadata": {},
   "outputs": [],
   "source": [
    "data = pd.merge(merged, data_31)"
   ]
  },
  {
   "cell_type": "code",
   "execution_count": 44,
   "id": "bc563447",
   "metadata": {},
   "outputs": [],
   "source": [
    "data.to_csv(r'Downloads/Covid19_Data.csv')"
   ]
  }
 ],
 "metadata": {
  "kernelspec": {
   "display_name": "Python 3",
   "language": "python",
   "name": "python3"
  },
  "language_info": {
   "codemirror_mode": {
    "name": "ipython",
    "version": 3
   },
   "file_extension": ".py",
   "mimetype": "text/x-python",
   "name": "python",
   "nbconvert_exporter": "python",
   "pygments_lexer": "ipython3",
   "version": "3.8.8"
  }
 },
 "nbformat": 4,
 "nbformat_minor": 5
}
