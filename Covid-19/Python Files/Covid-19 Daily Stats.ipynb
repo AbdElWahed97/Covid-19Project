{
 "cells": [
  {
   "cell_type": "code",
   "execution_count": 1,
   "id": "9cd71440",
   "metadata": {},
   "outputs": [],
   "source": [
    "import pandas as pd\n",
    "import numpy as np"
   ]
  },
  {
   "cell_type": "code",
   "execution_count": 2,
   "id": "9d87237c",
   "metadata": {},
   "outputs": [],
   "source": [
    "data1 = pd.read_csv(\"Downloads/time_series_covid19_confirmed_global.csv\")\n",
    "data2 = pd.read_csv(\"Downloads/time_series_covid19_recovered_global.csv\")\n",
    "data3 = pd.read_csv(\"Downloads/time_series_covid19_deaths_global.csv\")"
   ]
  },
  {
   "cell_type": "code",
   "execution_count": 18,
   "id": "f4e490d9",
   "metadata": {},
   "outputs": [],
   "source": [
    "data_1 = pd.DataFrame(columns = data1.columns)\n",
    "data_2 = pd.DataFrame(columns = data2.columns)\n",
    "data_3 = pd.DataFrame(columns = data3.columns)"
   ]
  },
  {
   "cell_type": "code",
   "execution_count": 19,
   "id": "66c485a0",
   "metadata": {},
   "outputs": [],
   "source": [
    "data_1['Province/State'] = data1['Province/State']\n",
    "data_1['Country/Region'] = data1['Country/Region']\n",
    "data_1['1/22/20'] = data1['1/22/20']\n",
    "\n",
    "data_2['Province/State'] = data2['Province/State']\n",
    "data_2['Country/Region'] = data2['Country/Region']\n",
    "data_2['1/22/20'] = data2['1/22/20']\n",
    "\n",
    "data_3['Province/State'] = data3['Province/State']\n",
    "data_3['Country/Region'] = data3['Country/Region']\n",
    "data_3['1/22/20'] = data3['1/22/20']\n",
    "\n",
    "del data_1['Lat']\n",
    "del data_1['Long']\n",
    "\n",
    "del data1['Lat']\n",
    "del data1['Long']\n",
    "\n",
    "\n",
    "del data_2['Lat']\n",
    "del data_2['Long']\n",
    "\n",
    "del data2['Lat']\n",
    "del data2['Long']\n",
    "\n",
    "\n",
    "del data_3['Lat']\n",
    "del data_3['Long']\n",
    "\n",
    "del data3['Lat']\n",
    "del data3['Long']\n"
   ]
  },
  {
   "cell_type": "code",
   "execution_count": 20,
   "id": "0c63b63c",
   "metadata": {},
   "outputs": [],
   "source": [
    "for i in range(data_1.shape[0]):\n",
    "    for j in range(3,data_1.shape[1]):\n",
    "        data_1.iloc[i,j] = data1.iloc[i,j] - data1.iloc[i, j-1]\n",
    "        if data_1.iloc[i,j] < 0:\n",
    "            data_1.iloc[i,j] = 0\n",
    "        else:\n",
    "            data_1.iloc[i,j] =data_1.iloc[i,j]\n",
    "            "
   ]
  },
  {
   "cell_type": "code",
   "execution_count": 22,
   "id": "dbd02674",
   "metadata": {},
   "outputs": [],
   "source": [
    "for i in range(data_2.shape[0]):\n",
    "    for j in range(3,data_2.shape[1]):\n",
    "        data_2.iloc[i,j] = data2.iloc[i,j] - data2.iloc[i, j-1]\n",
    "        if data_2.iloc[i,j] < 0:\n",
    "            data_2.iloc[i,j] = 0\n",
    "        else:\n",
    "            data_2.iloc[i,j] =data_2.iloc[i,j]"
   ]
  },
  {
   "cell_type": "code",
   "execution_count": 23,
   "id": "742f9f6e",
   "metadata": {},
   "outputs": [],
   "source": [
    "for i in range(data_3.shape[0]):\n",
    "    for j in range(3,data_3.shape[1]):\n",
    "        data_3.iloc[i,j] = data3.iloc[i,j] - data3.iloc[i, j-1]\n",
    "        if data_3.iloc[i,j] < 0:\n",
    "            data_3.iloc[i,j] = 0\n",
    "        else:\n",
    "            data_3.iloc[i,j] =data_3.iloc[i,j]"
   ]
  },
  {
   "cell_type": "code",
   "execution_count": 24,
   "id": "a7ded38f",
   "metadata": {},
   "outputs": [],
   "source": [
    "data_11 = data_1.set_index(['Province/State','Country/Region']).stack().reset_index(name = 'Daily Confirmed Cases').rename(columns ={'level_2':'Date'})\n",
    "data_21 = data_2.set_index(['Province/State','Country/Region']).stack().reset_index(name = 'Daily Recovered Cases').rename(columns ={'level_2':'Date'})\n",
    "data_31 = data_3.set_index(['Province/State','Country/Region']).stack().reset_index(name = 'Daily Deaths').rename(columns ={'level_2':'Date'})"
   ]
  },
  {
   "cell_type": "code",
   "execution_count": 25,
   "id": "a716f2be",
   "metadata": {},
   "outputs": [],
   "source": [
    "merged = pd.merge(data_11,data_21)\n",
    "data = pd.merge(merged,data_31)"
   ]
  },
  {
   "cell_type": "code",
   "execution_count": 28,
   "id": "1594f1c5",
   "metadata": {},
   "outputs": [],
   "source": [
    "data.to_csv(r'Downloads/Daily_Covid19_Stats.csv')"
   ]
  },
  {
   "cell_type": "code",
   "execution_count": null,
   "id": "2d5b08e2",
   "metadata": {},
   "outputs": [],
   "source": []
  }
 ],
 "metadata": {
  "kernelspec": {
   "display_name": "Python 3",
   "language": "python",
   "name": "python3"
  },
  "language_info": {
   "codemirror_mode": {
    "name": "ipython",
    "version": 3
   },
   "file_extension": ".py",
   "mimetype": "text/x-python",
   "name": "python",
   "nbconvert_exporter": "python",
   "pygments_lexer": "ipython3",
   "version": "3.8.8"
  }
 },
 "nbformat": 4,
 "nbformat_minor": 5
}
